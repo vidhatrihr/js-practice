{
 "cells": [
  {
   "cell_type": "code",
   "execution_count": null,
   "metadata": {},
   "outputs": [
    {
     "name": "stdout",
     "output_type": "stream",
     "text": [
      "[Function: greet]\n",
      "[Function: greet2]\n",
      "[Function: someName]\n"
     ]
    }
   ],
   "source": [
    "// regular functions\n",
    "\n",
    "function greet() {\n",
    "  console.log('Hello vidu');\n",
    "}\n",
    "\n",
    "let greet2 = function () {\n",
    "  console.log('Hello vidu');\n",
    "};\n",
    "\n",
    "let greet3 = function someName() {\n",
    "  console.log('Hello vidu');\n",
    "};\n",
    "\n",
    "console.log(greet);\n",
    "console.log(greet2);\n",
    "console.log(greet3);\n"
   ]
  },
  {
   "cell_type": "code",
   "execution_count": 4,
   "metadata": {},
   "outputs": [
    {
     "name": "stdout",
     "output_type": "stream",
     "text": [
      "[Function: arrowGreet]\n"
     ]
    }
   ],
   "source": [
    "// Arrow function\n",
    "\n",
    "let arrowGreet = () => {\n",
    "  console.log('Hello rahul');\n",
    "};\n",
    "\n",
    "console.log(arrowGreet);\n"
   ]
  },
  {
   "cell_type": "code",
   "execution_count": 8,
   "metadata": {},
   "outputs": [
    {
     "name": "stdout",
     "output_type": "stream",
     "text": [
      "going to submit\n",
      "Submitted Successfully\n",
      "going to payment\n",
      "payment done\n"
     ]
    }
   ],
   "source": [
    "function submit() {\n",
    "  console.log('Submitted Successfully');\n",
    "}\n",
    "\n",
    "function payment() {\n",
    "  console.log('payment done');\n",
    "}\n",
    "\n",
    "console.log('going to submit');\n",
    "submit();\n",
    "\n",
    "console.log('going to payment');\n",
    "payment();\n"
   ]
  },
  {
   "cell_type": "code",
   "execution_count": 11,
   "metadata": {},
   "outputs": [
    {
     "name": "stdout",
     "output_type": "stream",
     "text": [
      "rahul hello\n"
     ]
    }
   ],
   "source": [
    "// as variables\n",
    "\n",
    "let greets = function () {\n",
    "  console.log('rahul hello');\n",
    "};\n",
    "\n",
    "greets();\n"
   ]
  },
  {
   "cell_type": "code",
   "execution_count": null,
   "metadata": {},
   "outputs": [
    {
     "name": "stdout",
     "output_type": "stream",
     "text": [
      "launch successful\n",
      "Mission done\n"
     ]
    }
   ],
   "source": [
    "// as arguments\n",
    "\n",
    "\n",
    "\n",
    "function launch(callback) {\n",
    "  console.log('launch successful');\n",
    "  callback();\n",
    "}\n",
    "\n",
    "function messagePresident() {\n",
    "  console.log('Mission done');\n",
    "}\n",
    "\n",
    "launch(messagePresident);\n"
   ]
  },
  {
   "cell_type": "code",
   "execution_count": 20,
   "metadata": {},
   "outputs": [
    {
     "name": "stdout",
     "output_type": "stream",
     "text": [
      "nuke launch successful\n",
      "Hello president, nuke launched\n",
      "satellite launch successful\n",
      "Hello NASA, nuke launched\n",
      "kite launch successful\n",
      "Hello vishnu your kite launched\n"
     ]
    }
   ],
   "source": [
    "function messagePresident() {\n",
    "  console.log('Hello president, nuke launched');\n",
    "}\n",
    "\n",
    "function msgNASA() {\n",
    "  console.log('Hello NASA, nuke launched');\n",
    "}\n",
    "\n",
    "function launch(payload, callback) {\n",
    "  console.log(`${payload} launch successful`);\n",
    "  callback();\n",
    "}\n",
    "\n",
    "launch('nuke', messagePresident);\n",
    "launch('satellite', msgNASA);\n",
    "launch('kite', () => {\n",
    "  console.log('Hello vishnu your kite launched');\n",
    "});\n"
   ]
  }
 ],
 "metadata": {
  "kernelspec": {
   "display_name": "Deno",
   "language": "typescript",
   "name": "deno"
  },
  "language_info": {
   "codemirror_mode": "typescript",
   "file_extension": ".ts",
   "mimetype": "text/x.typescript",
   "name": "typescript",
   "nbconvert_exporter": "script",
   "pygments_lexer": "typescript",
   "version": "5.6.2"
  }
 },
 "nbformat": 4,
 "nbformat_minor": 2
}
