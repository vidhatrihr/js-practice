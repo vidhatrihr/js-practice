{
 "cells": [
  {
   "cell_type": "code",
   "execution_count": null,
   "metadata": {},
   "outputs": [
    {
     "name": "stdout",
     "output_type": "stream",
     "text": [
      "[Function: greet]\n",
      "[Function: greet2]\n",
      "[Function: someName]\n"
     ]
    }
   ],
   "source": [
    "// regular functions\n",
    "\n",
    "function greet() {\n",
    "  console.log('Hello vidu');\n",
    "}\n",
    "\n",
    "let greet2 = function () {\n",
    "  console.log('Hello vidu');\n",
    "};\n",
    "\n",
    "let greet3 = function someName() {\n",
    "  console.log('Hello vidu');\n",
    "};\n",
    "\n",
    "console.log(greet);\n",
    "console.log(greet2);\n",
    "console.log(greet3);\n"
   ]
  },
  {
   "cell_type": "code",
   "execution_count": 4,
   "metadata": {},
   "outputs": [
    {
     "name": "stdout",
     "output_type": "stream",
     "text": [
      "[Function: arrowGreet]\n"
     ]
    }
   ],
   "source": [
    "// Arrow function\n",
    "\n",
    "let arrowGreet = () => {\n",
    "  console.log('Hello rahul');\n",
    "};\n",
    "\n",
    "console.log(arrowGreet);\n"
   ]
  },
  {
   "cell_type": "code",
   "execution_count": 8,
   "metadata": {},
   "outputs": [
    {
     "name": "stdout",
     "output_type": "stream",
     "text": [
      "going to submit\n",
      "Submitted Successfully\n",
      "going to payment\n",
      "payment done\n"
     ]
    }
   ],
   "source": [
    "function submit() {\n",
    "  console.log('Submitted Successfully');\n",
    "}\n",
    "\n",
    "function payment() {\n",
    "  console.log('payment done');\n",
    "}\n",
    "\n",
    "console.log('going to submit');\n",
    "submit();\n",
    "\n",
    "console.log('going to payment');\n",
    "payment();\n"
   ]
  },
  {
   "cell_type": "code",
   "execution_count": 11,
   "metadata": {},
   "outputs": [
    {
     "name": "stdout",
     "output_type": "stream",
     "text": [
      "rahul hello\n"
     ]
    }
   ],
   "source": [
    "// as variables\n",
    "\n",
    "let greets = function () {\n",
    "  console.log('rahul hello');\n",
    "};\n",
    "\n",
    "greets();\n"
   ]
  },
  {
   "cell_type": "code",
   "execution_count": null,
   "metadata": {},
   "outputs": [
    {
     "name": "stdout",
     "output_type": "stream",
     "text": [
      "launch successful\n",
      "Mission done\n"
     ]
    }
   ],
   "source": [
    "// as arguments\n",
    "\n",
    "\n",
    "\n",
    "function launch(callback) {\n",
    "  console.log('launch successful');\n",
    "  callback();\n",
    "}\n",
    "\n",
    "function messagePresident() {\n",
    "  console.log('Mission done');\n",
    "}\n",
    "\n",
    "launch(messagePresident);\n"
   ]
  },
  {
   "cell_type": "code",
   "execution_count": 20,
   "metadata": {},
   "outputs": [
    {
     "name": "stdout",
     "output_type": "stream",
     "text": [
      "nuke launch successful\n",
      "Hello president, nuke launched\n",
      "satellite launch successful\n",
      "Hello NASA, nuke launched\n",
      "kite launch successful\n",
      "Hello vishnu your kite launched\n"
     ]
    }
   ],
   "source": [
    "function messagePresident() {\n",
    "  console.log('Hello president, nuke launched');\n",
    "}\n",
    "\n",
    "function msgNASA() {\n",
    "  console.log('Hello NASA, nuke launched');\n",
    "}\n",
    "\n",
    "function launch(payload, callback) {\n",
    "  console.log(`${payload} launch successful`);\n",
    "  callback();\n",
    "}\n",
    "\n",
    "launch('nuke', messagePresident);\n",
    "launch('satellite', msgNASA);\n",
    "launch('kite', () => {\n",
    "  console.log('Hello vishnu your kite launched');\n",
    "});\n"
   ]
  },
  {
   "cell_type": "code",
   "execution_count": 7,
   "metadata": {},
   "outputs": [
    {
     "name": "stdout",
     "output_type": "stream",
     "text": [
      "18\n",
      "17\n",
      "18\n",
      "17\n",
      "17\n",
      "14\n",
      "17\n"
     ]
    }
   ],
   "source": [
    "function add(x, y, z) {\n",
    "  return x + y + z;\n",
    "}\n",
    "\n",
    "let numbers = [9, 3, 5];\n",
    "\n",
    "console.log(add(5, 6, 7));\n",
    "console.log(add(...numbers));\n",
    "\n",
    "console.log(add.call(null, 5, 6, 7));\n",
    "console.log(add.call(null, ...numbers));\n",
    "console.log(add.call(null, ...[4, 6, 7]));\n",
    "console.log(add.apply(null, [3, 4, 7]));\n",
    "console.log(add.apply(null, numbers));\n"
   ]
  },
  {
   "cell_type": "code",
   "execution_count": null,
   "metadata": {},
   "outputs": [
    {
     "name": "stdout",
     "output_type": "stream",
     "text": [
      "Hello rahul, welcome to China\n",
      "Hello rahul, welcome to India\n",
      "Hello rahul, welcome to USA\n"
     ]
    }
   ],
   "source": [
    "\n",
    "\n",
    "function greetForIndia(visitor) {\n",
    "  console.log(`Hello ${visitor}, welcome to India`);\n",
    "}\n",
    "\n",
    "function greetForUSA(visitor) {\n",
    "  console.log(`Hello ${visitor}, welcome to USA`);\n",
    "}\n",
    "\n",
    "function greetForChina(visitor) {\n",
    "  console.log(`Hello ${visitor}, welcome to China`);\n",
    "}\n",
    "\n",
    "greetForChina('rahul');\n",
    "greetForIndia('rahul');\n",
    "greetForUSA('rahul');\n"
   ]
  },
  {
   "cell_type": "code",
   "execution_count": 3,
   "metadata": {},
   "outputs": [
    {
     "name": "stdout",
     "output_type": "stream",
     "text": [
      "Making a greet function for India\n",
      "Making a greet function for China\n",
      "Making a greet function for USA\n",
      "Hello rahul, welcome to China\n",
      "Hello cmd, welcome to USA\n"
     ]
    }
   ],
   "source": [
    "// Higher order functions\n",
    "\n",
    "function greetFactory(country) {\n",
    "  console.log(`Making a greet function for ${country}`);\n",
    "  return function (visitor) {\n",
    "    console.log(`Hello ${visitor}, welcome to ${country}`);\n",
    "  };\n",
    "}\n",
    "\n",
    "let greetForIndia = greetFactory('India');\n",
    "let greetForChina = greetFactory('China');\n",
    "let greetForUSA = greetFactory('USA');\n",
    "\n",
    "greetForChina('rahul');\n",
    "greetForUSA('cmd');\n"
   ]
  },
  {
   "cell_type": "code",
   "execution_count": 4,
   "metadata": {},
   "outputs": [
    {
     "name": "stdout",
     "output_type": "stream",
     "text": [
      "13\n",
      "50\n"
     ]
    }
   ],
   "source": [
    "let arr = [13, 50, 30];\n",
    "let [x, y, z] = arr;\n",
    "\n",
    "console.log(x);\n",
    "console.log(y);\n"
   ]
  },
  {
   "cell_type": "code",
   "execution_count": null,
   "metadata": {},
   "outputs": [
    {
     "name": "stdout",
     "output_type": "stream",
     "text": [
      "240\n",
      "240\n",
      "240\n"
     ]
    }
   ],
   "source": [
    "function add(a, b, c) {\n",
    "  return a + b + c;\n",
    "}\n",
    "\n",
    "let numbers = [70, 80, 90];\n",
    "\n",
    "console.log(add(numbers[0], numbers[1], numbers[2]));\n",
    "console.log(add.apply(null, numbers));\n",
    "console.log(add.call(null, ...numbers));"
   ]
  },
  {
   "cell_type": "code",
   "execution_count": 11,
   "metadata": {},
   "outputs": [
    {
     "data": {
      "text/plain": [
       "{ myName: \u001b[32m\"vidhatri\"\u001b[39m, age: \u001b[33m21\u001b[39m, place: \u001b[32m\"hbh\"\u001b[39m, salary: \u001b[33m29930\u001b[39m }"
      ]
     },
     "execution_count": 11,
     "metadata": {},
     "output_type": "execute_result"
    }
   ],
   "source": [
    "let student1 = {\n",
    "  myName: 'vidhatri',\n",
    "  age: 21,\n",
    "  place: 'hbh',\n",
    "};\n",
    "\n",
    "let data = {\n",
    "  ...student1,\n",
    "  salary: 29930,\n",
    "};\n",
    "\n",
    "data;\n"
   ]
  },
  {
   "cell_type": "code",
   "execution_count": 20,
   "metadata": {},
   "outputs": [
    {
     "data": {
      "text/plain": [
       "\u001b[33m150\u001b[39m"
      ]
     },
     "execution_count": 20,
     "metadata": {},
     "output_type": "execute_result"
    }
   ],
   "source": [
    "function add({ x, y, z: zulu }) {\n",
    "  return x + y + zulu;\n",
    "}\n",
    "\n",
    "let obj = {\n",
    "  x: 20,\n",
    "  y: 40,\n",
    "};\n",
    "\n",
    "add({ ...obj, z: 90 });\n"
   ]
  },
  {
   "cell_type": "code",
   "execution_count": 29,
   "metadata": {},
   "outputs": [
    {
     "name": "stdout",
     "output_type": "stream",
     "text": [
      "{ value: \"rahul\", done: false }\n",
      "{ value: \"vidu\", done: false }\n",
      "{ value: \"cmd\", done: false }\n",
      "{ value: \"harikesh\", done: false }\n",
      "{ value: undefined, done: true }\n",
      "{ value: \"rahul\", done: false }\n"
     ]
    }
   ],
   "source": [
    "function* getName() {\n",
    "  yield 'rahul';\n",
    "  yield 'vidu';\n",
    "  yield 'cmd';\n",
    "  yield 'harikesh';\n",
    "}\n",
    "\n",
    "let generator1 = getName();\n",
    "let generator2 = getName();\n",
    "\n",
    "console.log(generator1.next());\n",
    "console.log(generator1.next());\n",
    "console.log(generator1.next());\n",
    "console.log(generator1.next());\n",
    "console.log(generator1.next());\n",
    "\n",
    "console.log(generator2.next());\n"
   ]
  },
  {
   "cell_type": "code",
   "execution_count": 32,
   "metadata": {},
   "outputs": [
    {
     "data": {
      "text/plain": [
       "[ [ \u001b[32m\"myName\"\u001b[39m, \u001b[32m\"vidhatri\"\u001b[39m ], [ \u001b[32m\"age\"\u001b[39m, \u001b[33m21\u001b[39m ], [ \u001b[32m\"place\"\u001b[39m, \u001b[32m\"hbh\"\u001b[39m ] ]"
      ]
     },
     "execution_count": 32,
     "metadata": {},
     "output_type": "execute_result"
    }
   ],
   "source": [
    "let student1 = {\n",
    "  myName: 'vidhatri',\n",
    "  age: 21,\n",
    "  place: 'hbh',\n",
    "};\n",
    "\n",
    "Object.entries(student1);\n"
   ]
  },
  {
   "cell_type": "code",
   "execution_count": 59,
   "metadata": {},
   "outputs": [
    {
     "name": "stdout",
     "output_type": "stream",
     "text": [
      "Mammal { name: \"cat\", color: \"white\", size: \"small\", hasTail: true }\n",
      "I am  a green parrot with a red beak\n",
      "parrot is laying 8 eggs.\n",
      "cat gives birth to 5 babies. \n",
      "I am  a white cat\n",
      "cat is sleeping\n",
      "dog is sleeping\n"
     ]
    }
   ],
   "source": [
    "class Animal {\n",
    "  constructor(name, color) {\n",
    "    this.name = name;\n",
    "    this.color = color;\n",
    "  }\n",
    "\n",
    "  eat() {\n",
    "    console.log(`${this.name} is eating`);\n",
    "  }\n",
    "\n",
    "  sleep() {\n",
    "    console.log(`${this.name} is sleeping`);\n",
    "  }\n",
    "\n",
    "  showInfo() {\n",
    "    console.log(`I am  a ${this.color} ${this.name}`);\n",
    "  }\n",
    "}\n",
    "\n",
    "class Bird extends Animal {\n",
    "  constructor(name, color, beakColor) {\n",
    "    super(name, color);\n",
    "    this.beakColor = beakColor;\n",
    "  }\n",
    "\n",
    "  showInfo() {\n",
    "    console.log(`I am  a ${this.color} ${this.name} with a ${this.beakColor} beak`);\n",
    "  }\n",
    "\n",
    "  layEggs(number) {\n",
    "    console.log(`${this.name} is laying ${number} eggs.`);\n",
    "  }\n",
    "}\n",
    "\n",
    "class Mammal extends Animal {\n",
    "  constructor(name, color, size, hasTail) {\n",
    "    super(name, color);\n",
    "    this.size = size;\n",
    "    this.hasTail = hasTail;\n",
    "  }\n",
    "\n",
    "  giveBirth(number) {\n",
    "    console.log(`${this.name} gives birth to ${number} babies. `);\n",
    "  }\n",
    "}\n",
    "\n",
    "let cat = new Mammal('cat', 'white', 'small', true);\n",
    "let parrot = new Bird('parrot', 'green', 'red');\n",
    "let dog = new Animal('dog', 'black');\n",
    "\n",
    "console.log(cat);\n",
    "parrot.showInfo();\n",
    "parrot.layEggs(8);\n",
    "cat.giveBirth(5);\n",
    "cat.showInfo();\n",
    "cat.sleep();\n",
    "dog.sleep();\n"
   ]
  }
 ],
 "metadata": {
  "kernelspec": {
   "display_name": "Deno",
   "language": "typescript",
   "name": "deno"
  },
  "language_info": {
   "codemirror_mode": "typescript",
   "file_extension": ".ts",
   "mimetype": "text/x.typescript",
   "name": "typescript",
   "nbconvert_exporter": "script",
   "pygments_lexer": "typescript",
   "version": "5.6.2"
  }
 },
 "nbformat": 4,
 "nbformat_minor": 2
}
