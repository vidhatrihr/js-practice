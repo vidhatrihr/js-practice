{
 "cells": [
  {
   "cell_type": "code",
   "execution_count": 12,
   "metadata": {},
   "outputs": [
    {
     "name": "stdout",
     "output_type": "stream",
     "text": [
      "My salary is 2000\n"
     ]
    }
   ],
   "source": [
    "let student = {\n",
    "  salary: 10000,\n",
    "  age: 20,\n",
    "  printInfo() {\n",
    "    console.log(`My salary is ${this.salary}`);\n",
    "  },\n",
    "};\n",
    "\n",
    "student.printInfo.call({\n",
    "  salary: 2000,\n",
    "});\n"
   ]
  },
  {
   "cell_type": "code",
   "execution_count": 15,
   "metadata": {},
   "outputs": [
    {
     "name": "stdout",
     "output_type": "stream",
     "text": [
      "undefined\n"
     ]
    }
   ],
   "source": [
    "let y;\n",
    "console.log(y);\n"
   ]
  },
  {
   "cell_type": "code",
   "execution_count": 21,
   "metadata": {},
   "outputs": [
    {
     "name": "stdout",
     "output_type": "stream",
     "text": [
      "Yellow\n"
     ]
    }
   ],
   "source": [
    "const obj = {\n",
    "  color: 'red',\n",
    "  changeColor: function (color) {\n",
    "    this.color = color;\n",
    "  },\n",
    "};\n",
    "\n",
    "obj.changeColor('Yellow');\n",
    "\n",
    "console.log(obj.color);\n"
   ]
  },
  {
   "cell_type": "code",
   "execution_count": 1,
   "metadata": {},
   "outputs": [
    {
     "data": {
      "text/plain": [
       "\u001b[33m9\u001b[39m"
      ]
     },
     "execution_count": 1,
     "metadata": {},
     "output_type": "execute_result"
    }
   ],
   "source": [
    "let sum = (x, y) => {\n",
    "  return x + y;\n",
    "};\n",
    "\n",
    "// let sum = (x, y) => x + y; // this does'nt work\n",
    "\n",
    "sum(4, 5);\n"
   ]
  },
  {
   "cell_type": "code",
   "execution_count": 3,
   "metadata": {},
   "outputs": [
    {
     "data": {
      "text/plain": [
       "\u001b[33m4\u001b[39m"
      ]
     },
     "execution_count": 3,
     "metadata": {},
     "output_type": "execute_result"
    }
   ],
   "source": [
    "let sqr = x => {\n",
    "  return x * x;\n",
    "};\n",
    "\n",
    "// let sqr = x => {\n",
    "//   x * x;\n",
    "// };\n",
    "\n",
    "sqr(2);\n"
   ]
  },
  {
   "cell_type": "code",
   "execution_count": 4,
   "metadata": {},
   "outputs": [
    {
     "name": "stdout",
     "output_type": "stream",
     "text": [
      "[\n",
      "  -9, -7, -2, 1,\n",
      "   2,  2,  4, 5\n",
      "]\n"
     ]
    }
   ],
   "source": [
    "let x = [1, 2, 2, 4, 5, -2, -7, -9];\n",
    "\n",
    "console.log(x.sort((a, b) => a - b));\n"
   ]
  },
  {
   "cell_type": "code",
   "execution_count": 24,
   "metadata": {},
   "outputs": [
    {
     "name": "stdout",
     "output_type": "stream",
     "text": [
      "1\n"
     ]
    }
   ],
   "source": [
    "let x = [1, 2, 3, 4, 5, 6];\n",
    "let v = x.reduce((a, i) => a + i, 10);\n",
    "\n",
    "let arr = [1, 2, 3];\n",
    "let method = arr.reduce(a => a, 1);\n",
    "\n",
    "console.log(method);\n"
   ]
  },
  {
   "cell_type": "code",
   "execution_count": 11,
   "metadata": {},
   "outputs": [
    {
     "name": "stdout",
     "output_type": "stream",
     "text": [
      "true\n",
      "true\n"
     ]
    }
   ],
   "source": [
    "const animal = {\n",
    "  eats: true,\n",
    "};\n",
    "\n",
    "const dog = {\n",
    "  barks: true,\n",
    "};\n",
    "\n",
    "// Make dog inherit from animal\n",
    "// dog.__proto__ = animal;\n",
    "\n",
    "Object.setPrototypeOf(dog, animal);\n",
    "\n",
    "console.log(dog.barks);\n",
    "console.log(dog.eats);\n"
   ]
  },
  {
   "cell_type": "code",
   "execution_count": 17,
   "metadata": {},
   "outputs": [
    {
     "name": "stdout",
     "output_type": "stream",
     "text": [
      "vidhatri HR\n",
      "Rahul Maurya\n"
     ]
    }
   ],
   "source": [
    "const user = {\n",
    "  firstName: 'vidhatri',\n",
    "  lastName: 'HR',\n",
    "\n",
    "  get fullName() {\n",
    "    return `${this.firstName} ${this.lastName}`;\n",
    "  },\n",
    "\n",
    "  set fullName(name) {\n",
    "    let parts = name.split(' ');\n",
    "    this.firstName = parts[0];\n",
    "    this.lastName = parts[1];\n",
    "  },\n",
    "};\n",
    "\n",
    "console.log(user.fullName);\n",
    "\n",
    "user.fullName = 'Rahul Maurya';\n",
    "console.log(user.fullName);\n"
   ]
  },
  {
   "cell_type": "code",
   "execution_count": 26,
   "metadata": {},
   "outputs": [
    {
     "name": "stdout",
     "output_type": "stream",
     "text": [
      "0\n",
      "1\n",
      "2\n",
      "3\n",
      "4\n"
     ]
    }
   ],
   "source": [
    "// for (const i = 1; i <= 5; i++) {\n",
    "//   console.log(i);\n",
    "// }\n",
    "\n",
    "for (const i in [1, 2, 3, 4, 5]) {\n",
    "  console.log(i);\n",
    "}\n"
   ]
  },
  {
   "cell_type": "code",
   "execution_count": 7,
   "metadata": {},
   "outputs": [
    {
     "name": "stdout",
     "output_type": "stream",
     "text": [
      "[ 17, 20, 29 ]\n"
     ]
    }
   ],
   "source": [
    "const obj = {\n",
    "  a: 10,\n",
    "  operation(x, y, n) {\n",
    "    return x ** n + y + this.a;\n",
    "  },\n",
    "};\n",
    "\n",
    "const arr = Array();\n",
    "const p = obj.operation;\n",
    "arr.push(p.bind(obj, 2)(3, 2));\n",
    "arr.push(p.apply(obj, [2, 2, 3]));\n",
    "arr.push(p.call(obj, 2, 3, 4));\n",
    "console.log(arr);\n"
   ]
  },
  {
   "cell_type": "code",
   "execution_count": 5,
   "metadata": {},
   "outputs": [
    {
     "name": "stdout",
     "output_type": "stream",
     "text": [
      "Hello vishnu, welcome to India \n",
      "Hello vishnu, welcome to China \n"
     ]
    }
   ],
   "source": [
    "function greet(name) {\n",
    "  return function welcomeToCountry(country) {\n",
    "    console.log(`Hello ${name}, welcome to ${country} `);\n",
    "  };\n",
    "}\n",
    "\n",
    "let welcomeVishnu = greet('vishnu');\n",
    "welcomeVishnu('India');\n",
    "welcomeVishnu('China');\n"
   ]
  },
  {
   "cell_type": "code",
   "execution_count": null,
   "metadata": {},
   "outputs": [
    {
     "ename": "TypeError",
     "evalue": "Cannot set properties of undefined (setting 'name')",
     "output_type": "error",
     "traceback": [
      "Stack trace:",
      "TypeError: Cannot set properties of undefined (setting 'name')",
      "    at person (<anonymous>:2:13)",
      "    at <anonymous>:4:1"
     ]
    }
   ],
   "source": [
    "function person(name) {\n",
    "  this.name = name;\n",
    "}\n",
    "\n"
   ]
  },
  {
   "cell_type": "code",
   "execution_count": 3,
   "metadata": {},
   "outputs": [
    {
     "name": "stdout",
     "output_type": "stream",
     "text": [
      "0\n",
      "1\n",
      "2\n",
      "0 100 number\n",
      "1 x string\n",
      "2 [Function (anonymous)] function\n"
     ]
    }
   ],
   "source": [
    "let arr = [100, 'x', num => num + 1];\n",
    "\n",
    "for (const i in arr) {\n",
    "  console.log(i);\n",
    "}\n",
    "\n",
    "for (let i = 0; i < arr.length; i++) {\n",
    "  console.log(i, arr[i], typeof arr[i]);\n",
    "}\n"
   ]
  },
  {
   "cell_type": "code",
   "execution_count": 7,
   "metadata": {},
   "outputs": [
    {
     "name": "stdout",
     "output_type": "stream",
     "text": [
      "5\n"
     ]
    },
    {
     "data": {
      "text/plain": [
       "Promise { \u001b[90mundefined\u001b[39m }"
      ]
     },
     "execution_count": 7,
     "metadata": {},
     "output_type": "execute_result"
    }
   ],
   "source": [
    "async function getNum() {\n",
    "  return 5;\n",
    "}\n",
    "getNum().then(num => console.log(num));\n"
   ]
  },
  {
   "cell_type": "code",
   "execution_count": 4,
   "metadata": {},
   "outputs": [
    {
     "name": "stdout",
     "output_type": "stream",
     "text": [
      "{ subject: \"Embedded C\", stream: \"Electronics\" }\n"
     ]
    }
   ],
   "source": [
    "let bsCourses = {\n",
    "  subject: 'MAD2',\n",
    "  stream: 'Programming',\n",
    "};\n",
    "\n",
    "let esCourses = bsCourses;\n",
    "let msCourses = {};\n",
    "\n",
    "esCourses['subject'] = 'Embedded C';\n",
    "\n",
    "for (let key in bsCourses) {\n",
    "  msCourses[key] = bsCourses[key];\n",
    "}\n",
    "\n",
    "msCourses['stream'] = 'Electronics';\n",
    "\n",
    "console.log(msCourses);\n"
   ]
  }
 ],
 "metadata": {
  "kernelspec": {
   "display_name": "Deno",
   "language": "typescript",
   "name": "deno"
  },
  "language_info": {
   "codemirror_mode": "typescript",
   "file_extension": ".ts",
   "mimetype": "text/x.typescript",
   "name": "typescript",
   "nbconvert_exporter": "script",
   "pygments_lexer": "typescript",
   "version": "5.6.2"
  }
 },
 "nbformat": 4,
 "nbformat_minor": 2
}
