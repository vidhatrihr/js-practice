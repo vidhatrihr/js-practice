{
 "cells": [
  {
   "cell_type": "code",
   "execution_count": 9,
   "metadata": {},
   "outputs": [
    {
     "data": {
      "text/plain": [
       "dict_items([('name', 'vidu'), ('age', 21), ('place', 'hbh')])"
      ]
     },
     "execution_count": 9,
     "metadata": {},
     "output_type": "execute_result"
    },
    {
     "data": {
      "text/plain": [
       "dict_values(['vidu', 21, 'hbh'])"
      ]
     },
     "execution_count": 9,
     "metadata": {},
     "output_type": "execute_result"
    },
    {
     "data": {
      "text/plain": [
       "dict_keys(['name', 'age', 'place'])"
      ]
     },
     "execution_count": 9,
     "metadata": {},
     "output_type": "execute_result"
    },
    {
     "data": {
      "text/plain": [
       "21"
      ]
     },
     "execution_count": 9,
     "metadata": {},
     "output_type": "execute_result"
    }
   ],
   "source": [
    "student = {\n",
    "    'name': 'vidu',\n",
    "    'age': 21,\n",
    "    'place': 'hbh'\n",
    "}\n",
    "\n",
    "student.items()\n",
    "student.values()\n",
    "student.keys()\n",
    "student['age']"
   ]
  },
  {
   "cell_type": "code",
   "execution_count": 20,
   "metadata": {},
   "outputs": [
    {
     "data": {
      "text/plain": [
       "4"
      ]
     },
     "execution_count": 20,
     "metadata": {},
     "output_type": "execute_result"
    },
    {
     "name": "stdout",
     "output_type": "stream",
     "text": [
      "vidu\n",
      "paru\n",
      "vishnu\n",
      "rahul\n",
      "0 vidu\n",
      "1 paru\n",
      "2 vishnu\n",
      "3 rahul\n"
     ]
    }
   ],
   "source": [
    "names = ['vidu', 'paru', 'vishnu', 'rahul']\n",
    "len(names)\n",
    "\n",
    "for name in names:\n",
    "  print(name)\n",
    "\n",
    "for i in range(len(names)):\n",
    "  print(i, names[i])"
   ]
  },
  {
   "cell_type": "code",
   "execution_count": 22,
   "metadata": {},
   "outputs": [
    {
     "name": "stdout",
     "output_type": "stream",
     "text": [
      "vidu has scored 20\n",
      "paru has scored 30\n",
      "vishnu has scored 40\n",
      "rahul has scored 50\n"
     ]
    }
   ],
   "source": [
    "names = ['vidu', 'paru', 'vishnu', 'rahul']\n",
    "marks = [20, 30, 40, 50]\n",
    "\n",
    "for i in range(len(names)):\n",
    "  print(f'{names[i]} has scored {marks[i]}')\n",
    "\n",
    "# for name in names:\n",
    "#   for mark in marks:\n",
    "#     print(f'{name} has scored {mark}')"
   ]
  }
 ],
 "metadata": {
  "kernelspec": {
   "display_name": "Python 3",
   "language": "python",
   "name": "python3"
  },
  "language_info": {
   "codemirror_mode": {
    "name": "ipython",
    "version": 3
   },
   "file_extension": ".py",
   "mimetype": "text/x-python",
   "name": "python",
   "nbconvert_exporter": "python",
   "pygments_lexer": "ipython3",
   "version": "3.12.6"
  }
 },
 "nbformat": 4,
 "nbformat_minor": 2
}
