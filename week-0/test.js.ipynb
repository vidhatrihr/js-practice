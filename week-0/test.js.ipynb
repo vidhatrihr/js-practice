{
 "cells": [
  {
   "cell_type": "code",
   "execution_count": 1,
   "metadata": {},
   "outputs": [],
   "source": [
    "var a = 2;\n",
    "var b = 4;\n",
    "\n",
    "// a && b;\n",
    "// a || b;\n",
    "// 1 ** 2;\n",
    "// 4 ** 2;\n",
    "// 2 ** 8;\n",
    "let c = 1 * 2 + ((5 / 2) % 2);\n"
   ]
  },
  {
   "cell_type": "code",
   "execution_count": 2,
   "metadata": {},
   "outputs": [
    {
     "ename": "ReferenceError",
     "evalue": "i is not defined",
     "output_type": "error",
     "traceback": [
      "Stack trace:",
      "ReferenceError: i is not defined",
      "    at <anonymous>:1:28"
     ]
    }
   ],
   "source": [
    "for (i = 10; i <= 100; i += 2) {\n",
    "  console.log(i ** 2);\n",
    "}\n"
   ]
  }
 ],
 "metadata": {
  "kernelspec": {
   "display_name": "Deno",
   "language": "typescript",
   "name": "deno"
  },
  "language_info": {
   "codemirror_mode": "typescript",
   "file_extension": ".ts",
   "mimetype": "text/x.typescript",
   "name": "typescript",
   "nbconvert_exporter": "script",
   "pygments_lexer": "typescript",
   "version": "5.6.2"
  }
 },
 "nbformat": 4,
 "nbformat_minor": 2
}
