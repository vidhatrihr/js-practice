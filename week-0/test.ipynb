{
 "cells": [
  {
   "cell_type": "code",
   "execution_count": 11,
   "metadata": {},
   "outputs": [
    {
     "name": "stdout",
     "output_type": "stream",
     "text": [
      "elppa\n"
     ]
    }
   ],
   "source": [
    "word = 'apple'\n",
    "\n",
    "new_word = ''\n",
    "for i in range(len(word)-1, -1, -1):\n",
    "  new_word += word[i]\n",
    "\n",
    "print(new_word)"
   ]
  },
  {
   "cell_type": "code",
   "execution_count": 19,
   "metadata": {},
   "outputs": [
    {
     "name": "stdout",
     "output_type": "stream",
     "text": [
      "0\n",
      "no\n"
     ]
    }
   ],
   "source": [
    "word = 'aibohphobiaibohphobiaibohphobiaibohphobiaibohphobia'\n",
    "\n",
    "word = 'madal'\n",
    "\n",
    "i = 0\n",
    "j = len(word)-1\n",
    "\n",
    "is_palindrome = True\n",
    "for k in range(len(word)):\n",
    "  if word[i] == word[j]:\n",
    "    i += 1\n",
    "    j -= 1\n",
    "  else:\n",
    "    is_palindrome = False\n",
    "    break\n",
    "if is_palindrome:\n",
    "  print('yes')\n",
    "else:\n",
    "  print('no')"
   ]
  },
  {
   "cell_type": "code",
   "execution_count": 20,
   "metadata": {},
   "outputs": [
    {
     "name": "stdout",
     "output_type": "stream",
     "text": [
      "Yes\n"
     ]
    }
   ],
   "source": [
    "word = 'madam'\n",
    "\n",
    "i = 0\n",
    "j = len(word)-1\n",
    "\n",
    "is_palindrome = True\n",
    "\n",
    "for _ in range(len(word)):\n",
    "  while i != j:\n",
    "    if word[i] == word[j]:\n",
    "      i += 1\n",
    "      j -= 1\n",
    "    else:\n",
    "      is_palindrome = False\n",
    "      break\n",
    "if is_palindrome:\n",
    "  print('Yes')\n",
    "else:\n",
    "  print('No')"
   ]
  },
  {
   "cell_type": "code",
   "execution_count": 21,
   "metadata": {},
   "outputs": [
    {
     "data": {
      "text/plain": [
       "True"
      ]
     },
     "execution_count": 21,
     "metadata": {},
     "output_type": "execute_result"
    }
   ],
   "source": [
    "word = 'madam'\n",
    "i = 0\n",
    "j = len(word)-1\n",
    "\n",
    "is_pal = True\n",
    "\n",
    "while is_pal:\n",
    "  if i == j:\n",
    "    break\n",
    "\n",
    "  if word[i] == word[j]:\n",
    "    i += 1\n",
    "    j -= 1\n",
    "  else:\n",
    "    is_pal = False\n",
    "\n",
    "is_pal"
   ]
  },
  {
   "cell_type": "code",
   "execution_count": 23,
   "metadata": {},
   "outputs": [
    {
     "data": {
      "text/plain": [
       "False"
      ]
     },
     "execution_count": 23,
     "metadata": {},
     "output_type": "execute_result"
    }
   ],
   "source": [
    "word = 'madal'\n",
    "i = 0\n",
    "j = len(word)-1\n",
    "\n",
    "is_pal = True\n",
    "\n",
    "for _ in range(len(word)):\n",
    "  if i == j:\n",
    "    break\n",
    "\n",
    "  if word[i] == word[j]:\n",
    "    i += 1\n",
    "    j -= 1\n",
    "  else:\n",
    "    is_pal = False\n",
    "    break\n",
    "\n",
    "is_pal"
   ]
  },
  {
   "cell_type": "code",
   "execution_count": 25,
   "metadata": {},
   "outputs": [
    {
     "data": {
      "text/plain": [
       "True"
      ]
     },
     "execution_count": 25,
     "metadata": {},
     "output_type": "execute_result"
    }
   ],
   "source": [
    "word = 'madam'\n",
    "is_pal = True\n",
    "\n",
    "for i in range(len(word)):\n",
    "  j = len(word)-1-i\n",
    "  if i == j:\n",
    "    break\n",
    "\n",
    "  if word[i] != word[j]:\n",
    "    is_pal = False\n",
    "    break\n",
    "\n",
    "is_pal"
   ]
  },
  {
   "cell_type": "code",
   "execution_count": 28,
   "metadata": {},
   "outputs": [
    {
     "data": {
      "text/plain": [
       "True"
      ]
     },
     "execution_count": 28,
     "metadata": {},
     "output_type": "execute_result"
    }
   ],
   "source": [
    "word = 'aibohphobiaibohphobiaibohphobiaibohphobiaibohphobia'\n",
    "is_pal = True\n",
    "\n",
    "while word != '':\n",
    "  first = word[0]\n",
    "  last = word[-1]\n",
    "\n",
    "  if first == last:\n",
    "    word = word[1:-1]\n",
    "  else:\n",
    "    is_pal = False\n",
    "    break\n",
    "\n",
    "is_pal"
   ]
  },
  {
   "cell_type": "code",
   "execution_count": 35,
   "metadata": {},
   "outputs": [
    {
     "data": {
      "text/plain": [
       "False"
      ]
     },
     "execution_count": 35,
     "metadata": {},
     "output_type": "execute_result"
    }
   ],
   "source": [
    "word = 'madal'\n",
    "\n",
    "mid = len(word)//2\n",
    "\n",
    "first = word[:mid]\n",
    "\n",
    "if len(word) % 2 == 0:\n",
    "  last = word[mid:]\n",
    "else:\n",
    "  last = word[mid+1:]\n",
    "\n",
    "first == last[::-1]"
   ]
  },
  {
   "cell_type": "code",
   "execution_count": 37,
   "metadata": {},
   "outputs": [
    {
     "data": {
      "text/plain": [
       "True"
      ]
     },
     "execution_count": 37,
     "metadata": {},
     "output_type": "execute_result"
    }
   ],
   "source": [
    "word = 'madam'\n",
    "word == word[::-1]"
   ]
  },
  {
   "cell_type": "code",
   "execution_count": 7,
   "metadata": {},
   "outputs": [
    {
     "name": "stdout",
     "output_type": "stream",
     "text": [
      "No\n"
     ]
    }
   ],
   "source": [
    "word = 'madal'\n",
    "is_pal = True\n",
    "\n",
    "i = 0\n",
    "j = len(word)-1 - i\n",
    "\n",
    "\n",
    "for _ in range(len(word)):\n",
    "  if i == j:\n",
    "    break\n",
    "\n",
    "  if word[i] == word[j]:\n",
    "    i += 1\n",
    "    j -= 1\n",
    "  else:\n",
    "    is_pal = False\n",
    "    break\n",
    "\n",
    "if is_pal:\n",
    "  print(\"Yes\")\n",
    "else:\n",
    "  print('No')"
   ]
  },
  {
   "cell_type": "code",
   "execution_count": 10,
   "metadata": {},
   "outputs": [
    {
     "name": "stdout",
     "output_type": "stream",
     "text": [
      "Yes\n",
      "Yes\n"
     ]
    }
   ],
   "source": [
    "word = 'madam'\n",
    "is_pal = True\n",
    "\n",
    "i = 0\n",
    "j = len(word)-1 - i\n",
    "\n",
    "while is_pal:\n",
    "  if i == j:\n",
    "    break\n",
    "  if word[i] == word[j]:\n",
    "    # print('Yes')\n",
    "    i += 1\n",
    "    j -= 1\n",
    "  else:\n",
    "    # print('No')\n",
    "    is_pal = False\n",
    "    break"
   ]
  },
  {
   "cell_type": "code",
   "execution_count": 16,
   "metadata": {},
   "outputs": [
    {
     "data": {
      "text/plain": [
       "True"
      ]
     },
     "execution_count": 16,
     "metadata": {},
     "output_type": "execute_result"
    }
   ],
   "source": [
    "word = 'madam'\n",
    "is_pal = True\n",
    "\n",
    "for i in range(len(word)):\n",
    "  j = len(word)-1-i\n",
    "  # print(i, j)\n",
    "  if i != j:\n",
    "    if word[i] == word[j]:\n",
    "      continue\n",
    "    else:\n",
    "      is_pal = False\n",
    "      break\n",
    "\n",
    "is_pal"
   ]
  },
  {
   "cell_type": "code",
   "execution_count": 23,
   "metadata": {},
   "outputs": [
    {
     "data": {
      "text/plain": [
       "True"
      ]
     },
     "execution_count": 23,
     "metadata": {},
     "output_type": "execute_result"
    }
   ],
   "source": [
    "word = 'madam'\n",
    "\n",
    "mid = len(word) // 2\n",
    "\n",
    "right = word[:mid]\n",
    "if len(word) % 2 != 0:\n",
    "  left = word[mid+1:]\n",
    "else:\n",
    "  left = word[mid:]\n",
    "\n",
    "\n",
    "right == left[::-1]"
   ]
  },
  {
   "cell_type": "code",
   "execution_count": 37,
   "metadata": {},
   "outputs": [
    {
     "name": "stdout",
     "output_type": "stream",
     "text": [
      "0\n",
      "3\n",
      "8\n",
      "15\n",
      "24\n"
     ]
    }
   ],
   "source": [
    "# factorial\n",
    "\n",
    "# 5! = 5*4*3*2*1\n",
    "num = 5\n",
    "\n",
    "fact = 1\n",
    "for i in range(num):\n",
    "  fact += 1\n",
    "  print(fact*i)"
   ]
  },
  {
   "cell_type": "code",
   "execution_count": 41,
   "metadata": {},
   "outputs": [
    {
     "name": "stdout",
     "output_type": "stream",
     "text": [
      "0 1\n",
      "0 2\n",
      "0 3\n",
      "0 4\n"
     ]
    }
   ],
   "source": [
    "for i in range(num):\n",
    "  if i != 0:\n",
    "    fact *= i\n",
    "    print(fact, i)"
   ]
  },
  {
   "cell_type": "code",
   "execution_count": 42,
   "metadata": {},
   "outputs": [
    {
     "data": {
      "text/plain": [
       "True"
      ]
     },
     "execution_count": 42,
     "metadata": {},
     "output_type": "execute_result"
    }
   ],
   "source": [
    "word = 'madam'\n",
    "is_pal = True\n",
    "\n",
    "i = 0\n",
    "j = len(word)-1\n",
    "\n",
    "for _ in range(len(word)):\n",
    "  if i == j:\n",
    "    break\n",
    "\n",
    "  if word[i] == word[j]:\n",
    "    i += 1\n",
    "    j -= 1\n",
    "  else:\n",
    "    is_pal = False\n",
    "    break\n",
    "\n",
    "is_pal"
   ]
  },
  {
   "cell_type": "code",
   "execution_count": 44,
   "metadata": {},
   "outputs": [
    {
     "data": {
      "text/plain": [
       "True"
      ]
     },
     "execution_count": 44,
     "metadata": {},
     "output_type": "execute_result"
    }
   ],
   "source": [
    "word = 'madam'\n",
    "is_pal = True\n",
    "\n",
    "for i in range(len(word)):\n",
    "  j = len(word)-1-i\n",
    "  if i == j:\n",
    "    break\n",
    "  if word[i] != word[j]:\n",
    "    is_pal = False\n",
    "    break\n",
    "\n",
    "is_pal"
   ]
  },
  {
   "cell_type": "code",
   "execution_count": 46,
   "metadata": {},
   "outputs": [
    {
     "data": {
      "text/plain": [
       "True"
      ]
     },
     "execution_count": 46,
     "metadata": {},
     "output_type": "execute_result"
    }
   ],
   "source": [
    "word = 'madam'\n",
    "is_pal = True\n",
    "\n",
    "i = 0\n",
    "j = len(word)-1\n",
    "\n",
    "while is_pal:\n",
    "  if i == j:\n",
    "    break\n",
    "\n",
    "  if word[i] == word[j]:\n",
    "    i += 1\n",
    "    j -= 1\n",
    "  else:\n",
    "    is_pal = False\n",
    "\n",
    "is_pal"
   ]
  },
  {
   "cell_type": "code",
   "execution_count": 49,
   "metadata": {},
   "outputs": [
    {
     "data": {
      "text/plain": [
       "True"
      ]
     },
     "execution_count": 49,
     "metadata": {},
     "output_type": "execute_result"
    }
   ],
   "source": [
    "word = 'madam'\n",
    "is_pal = True\n",
    "\n",
    "while len(word) != 0:\n",
    "  if word[0] != word[-1]:\n",
    "    is_pal = False\n",
    "    break\n",
    "  word = word[1:-1]\n",
    "\n",
    "is_pal"
   ]
  },
  {
   "cell_type": "code",
   "execution_count": 63,
   "metadata": {},
   "outputs": [
    {
     "data": {
      "text/plain": [
       "True"
      ]
     },
     "execution_count": 63,
     "metadata": {},
     "output_type": "execute_result"
    }
   ],
   "source": [
    "word = 'maam'\n",
    "mid = len(word)//2\n",
    "\n",
    "left = word[:mid]\n",
    "if len(word) % 2 == 0:\n",
    "  right = word[mid:]\n",
    "else:\n",
    "  right = word[mid+1:]\n",
    "\n",
    "is_pal = left == right[::-1]\n",
    "is_pal"
   ]
  },
  {
   "cell_type": "code",
   "execution_count": 61,
   "metadata": {},
   "outputs": [
    {
     "data": {
      "text/plain": [
       "True"
      ]
     },
     "execution_count": 61,
     "metadata": {},
     "output_type": "execute_result"
    }
   ],
   "source": [
    "word = 'gadag'\n",
    "is_pal = word == word[::-1]\n",
    "is_pal"
   ]
  },
  {
   "cell_type": "code",
   "execution_count": 73,
   "metadata": {},
   "outputs": [
    {
     "data": {
      "text/plain": [
       "['a', 'p', 'p', 'l', 'e']"
      ]
     },
     "execution_count": 73,
     "metadata": {},
     "output_type": "execute_result"
    },
    {
     "data": {
      "text/plain": [
       "['e', 'l', 'p', 'p', 'a']"
      ]
     },
     "execution_count": 73,
     "metadata": {},
     "output_type": "execute_result"
    },
    {
     "data": {
      "text/plain": [
       "'elppa'"
      ]
     },
     "execution_count": 73,
     "metadata": {},
     "output_type": "execute_result"
    }
   ],
   "source": [
    "word = 'apple'\n",
    "lst = list(word)\n",
    "lst\n",
    "\n",
    "lst.reverse()\n",
    "lst\n",
    "\n",
    "''.join(lst)"
   ]
  }
 ],
 "metadata": {
  "kernelspec": {
   "display_name": "Python 3",
   "language": "python",
   "name": "python3"
  },
  "language_info": {
   "codemirror_mode": {
    "name": "ipython",
    "version": 3
   },
   "file_extension": ".py",
   "mimetype": "text/x-python",
   "name": "python",
   "nbconvert_exporter": "python",
   "pygments_lexer": "ipython3",
   "version": "3.12.6"
  }
 },
 "nbformat": 4,
 "nbformat_minor": 2
}
