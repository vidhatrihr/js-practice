{
 "cells": [
  {
   "cell_type": "code",
   "execution_count": 5,
   "metadata": {},
   "outputs": [
    {
     "data": {
      "text/plain": [
       "\u001b[32m'{\"name\":\"rahul\",\"weight\":68,\"height\":170,\"age\":23}'\u001b[39m"
      ]
     },
     "execution_count": 5,
     "metadata": {},
     "output_type": "execute_result"
    }
   ],
   "source": [
    "let obj = {\n",
    "  name: 'rahul',\n",
    "  weight: 68,\n",
    "  height: 170,\n",
    "  age: 23,\n",
    "};\n",
    "\n",
    "// String(obj) === '[object Object]';\n",
    "JSON.stringify(obj);\n"
   ]
  },
  {
   "cell_type": "code",
   "execution_count": 6,
   "metadata": {},
   "outputs": [
    {
     "data": {
      "text/plain": [
       "{ name: \u001b[32m\"rahul\"\u001b[39m, weight: \u001b[33m68\u001b[39m, height: \u001b[33m170\u001b[39m, age: \u001b[33m23\u001b[39m }"
      ]
     },
     "execution_count": 6,
     "metadata": {},
     "output_type": "execute_result"
    }
   ],
   "source": [
    "JSON.parse('{\"name\":\"rahul\",\"weight\":68,\"height\":170,\"age\":23}');\n"
   ]
  }
 ],
 "metadata": {
  "kernelspec": {
   "display_name": "Deno",
   "language": "typescript",
   "name": "deno"
  },
  "language_info": {
   "codemirror_mode": "typescript",
   "file_extension": ".ts",
   "mimetype": "text/x.typescript",
   "name": "typescript",
   "nbconvert_exporter": "script",
   "pygments_lexer": "typescript",
   "version": "5.6.2"
  }
 },
 "nbformat": 4,
 "nbformat_minor": 2
}
