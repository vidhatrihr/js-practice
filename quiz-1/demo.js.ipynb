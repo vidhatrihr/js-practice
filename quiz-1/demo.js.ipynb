{
 "cells": [
  {
   "cell_type": "code",
   "execution_count": 3,
   "metadata": {},
   "outputs": [
    {
     "name": "stdout",
     "output_type": "stream",
     "text": [
      "true\n",
      "boolean\n"
     ]
    }
   ],
   "source": [
    "let x = 5;\n",
    "x = 'rahul';\n",
    "x = new Date();\n",
    "x = true;\n",
    "\n",
    "console.log(x);\n",
    "console.log(typeof x);\n"
   ]
  },
  {
   "cell_type": "code",
   "execution_count": 4,
   "metadata": {},
   "outputs": [
    {
     "name": "stdout",
     "output_type": "stream",
     "text": [
      "I am vidu\n"
     ]
    },
    {
     "ename": "ReferenceError",
     "evalue": "mySalary is not defined",
     "output_type": "error",
     "traceback": [
      "Stack trace:",
      "ReferenceError: mySalary is not defined",
      "    at <anonymous>:3:29"
     ]
    }
   ],
   "source": [
    "let myName = 'vidu';\n",
    "\n",
    "console.log(`I am ${myName}`);\n",
    "console.log(`My salary is ${mySalary}`);\n"
   ]
  },
  {
   "cell_type": "code",
   "execution_count": null,
   "metadata": {},
   "outputs": [
    {
     "name": "stdout",
     "output_type": "stream",
     "text": [
      "its ok\n"
     ]
    }
   ],
   "source": [
    "let tip = 10;\n",
    "\n",
    "if (tip > 10) {\n",
    "  console.log('Thank you for the tip');\n",
    "} else {\n",
    "  console.log('its ok');\n",
    "}\n"
   ]
  },
  {
   "cell_type": "code",
   "execution_count": null,
   "metadata": {},
   "outputs": [
    {
     "name": "stdout",
     "output_type": "stream",
     "text": [
      "vidu\n"
     ]
    }
   ],
   "source": [
    "{\n",
    "  var myName = 'vidu';\n",
    "  var age = 19;\n",
    "}\n",
    "console.log(myName);\n"
   ]
  },
  {
   "cell_type": "code",
   "execution_count": null,
   "metadata": {},
   "outputs": [
    {
     "ename": "ReferenceError",
     "evalue": "hello is not defined",
     "output_type": "error",
     "traceback": [
      "Stack trace:",
      "ReferenceError: hello is not defined",
      "    at <anonymous>:5:13"
     ]
    }
   ],
   "source": [
    "function greet() {\n",
    "  let hello = 'Hello rahul';\n",
    "  console.log(hello);\n",
    "}\n",
    "\n",
    "console.log(hello);"
   ]
  },
  {
   "cell_type": "code",
   "execution_count": 14,
   "metadata": {},
   "outputs": [
    {
     "name": "stdout",
     "output_type": "stream",
     "text": [
      "hospete\n"
     ]
    }
   ],
   "source": [
    "let place = 'hbh';\n",
    "{\n",
    "  place = 'hospete';\n",
    "  console.log(place);\n",
    "}\n",
    "// console.log(place);\n"
   ]
  },
  {
   "cell_type": "code",
   "execution_count": 2,
   "metadata": {},
   "outputs": [
    {
     "ename": "ReferenceError",
     "evalue": "fruit is not defined",
     "output_type": "error",
     "traceback": [
      "Stack trace:",
      "ReferenceError: fruit is not defined",
      "    at <anonymous>:3:2"
     ]
    }
   ],
   "source": [
    "{\n",
    "  const fruit = 'apple';\n",
    "}\n",
    "fruit;\n"
   ]
  },
  {
   "cell_type": "code",
   "execution_count": null,
   "metadata": {},
   "outputs": [
    {
     "name": "stdout",
     "output_type": "stream",
     "text": [
      "vidu\n",
      "19\n"
     ]
    }
   ],
   "source": [
    "console.log(myName);\n",
    "console.log(age);\n"
   ]
  },
  {
   "cell_type": "code",
   "execution_count": null,
   "metadata": {},
   "outputs": [
    {
     "name": "stdout",
     "output_type": "stream",
     "text": [
      "Eating puri\n",
      "Eating dosa\n",
      "Eating idli\n"
     ]
    }
   ],
   "source": [
    "const foods = ['puri', 'dosa', 'idli'];\n",
    "\n",
    "function eat(food) {\n",
    "  console.log(`Eating ${food}`);\n",
    "}\n",
    "\n",
    "function myLoop(array, callback) {\n",
    "  for (let elem of array) {\n",
    "    callback(elem);\n",
    "  }\n",
    "}\n",
    "\n",
    "myLoop(foods, eat);\n"
   ]
  },
  {
   "cell_type": "code",
   "execution_count": 13,
   "metadata": {},
   "outputs": [
    {
     "name": "stdout",
     "output_type": "stream",
     "text": [
      "Drive xylo\n",
      "Drive lambergini\n",
      "Drive swift\n",
      "Drive ertiga\n",
      "Drive bugati\n",
      "Drive rolls-roys\n",
      "Drive XL6\n",
      "Drive XL7\n",
      "Drive dzair\n"
     ]
    }
   ],
   "source": [
    "let cars = ['xylo', 'lambergini', 'swift', 'ertiga', 'bugati', 'rolls-roys', 'XL6', 'XL7', 'dzair'];\n",
    "\n",
    "function drive(car) {\n",
    "  console.log(`Drive ${car}`);\n",
    "}\n",
    "\n",
    "myLoop(cars, drive);\n"
   ]
  },
  {
   "cell_type": "code",
   "execution_count": null,
   "metadata": {},
   "outputs": [],
   "source": [
    "let [roll_num, name, age, place] = [10, 'vidu', 20, 'hbh'];"
   ]
  },
  {
   "cell_type": "code",
   "execution_count": 1,
   "metadata": {},
   "outputs": [
    {
     "name": "stdout",
     "output_type": "stream",
     "text": [
      "vidu\n",
      "23\n",
      "[ \"hbh\", 100 ]\n"
     ]
    }
   ],
   "source": [
    "// spread\n",
    "\n",
    "let data = ['vidu', 23, 'hbh', 100];\n",
    "\n",
    "// let [name, age, place, salary] = data;\n",
    "\n",
    "let [name, age, ...extra] = data;\n",
    "\n",
    "console.log(name);\n",
    "console.log(age);\n",
    "console.log(extra);\n"
   ]
  },
  {
   "cell_type": "code",
   "execution_count": 5,
   "metadata": {},
   "outputs": [
    {
     "name": "stdout",
     "output_type": "stream",
     "text": [
      "Hello vidu, ur age is 23 and u are from undefined\n"
     ]
    }
   ],
   "source": [
    "let data = ['vidu', 23];\n",
    "\n",
    "function greet(name, age, place) {\n",
    "  console.log(`Hello ${name}, ur age is ${age} and u are from ${place}`);\n",
    "}\n",
    "\n",
    "greet(...data);\n"
   ]
  },
  {
   "cell_type": "code",
   "execution_count": 10,
   "metadata": {},
   "outputs": [
    {
     "name": "stdout",
     "output_type": "stream",
     "text": [
      "{ value: 20000, done: false }\n",
      "{ value: 30000, done: false }\n",
      "{ value: 2000, done: false }\n",
      "{ value: 200, done: false }\n",
      "{ value: undefined, done: true }\n"
     ]
    }
   ],
   "source": [
    "// generator\n",
    "\n",
    "function* myGen(salary) {\n",
    "  yield 20000;\n",
    "  yield 30000;\n",
    "  yield 2000;\n",
    "  yield 200;\n",
    "}\n",
    "\n",
    "let gen = myGen();\n",
    "console.log(gen.next());\n",
    "console.log(gen.next());\n",
    "console.log(gen.next());\n",
    "console.log(gen.next());\n",
    "console.log(gen.next());\n"
   ]
  },
  {
   "cell_type": "code",
   "execution_count": 5,
   "metadata": {},
   "outputs": [
    {
     "name": "stdout",
     "output_type": "stream",
     "text": [
      "undefined\n"
     ]
    },
    {
     "ename": "TypeError",
     "evalue": "Cannot read properties of undefined (reading 'name')",
     "output_type": "error",
     "traceback": [
      "Stack trace:",
      "TypeError: Cannot read properties of undefined (reading 'name')",
      "    at greet (<anonymous>:4:29)",
      "    at <anonymous>:10:1"
     ]
    }
   ],
   "source": [
    "// bind\n",
    "\n",
    "function greet(place) {\n",
    "  console.log(this);\n",
    "  console.log(`Hello ${this.name}, u r from ${place}`);\n",
    "}\n",
    "\n",
    "let obj = {\n",
    "  name: 'vidu',\n",
    "};\n",
    "\n",
    "let boundGreet = greet.bind(obj);\n",
    "\n",
    "greet('hbh');\n"
   ]
  },
  {
   "cell_type": "code",
   "execution_count": 20,
   "metadata": {},
   "outputs": [],
   "source": [
    "let student = {\n",
    "  name: 'cmd',\n",
    "  salary: 10000,\n",
    "};\n"
   ]
  },
  {
   "cell_type": "code",
   "execution_count": 22,
   "metadata": {},
   "outputs": [
    {
     "name": "stdout",
     "output_type": "stream",
     "text": [
      "vidu salary is 1999\n",
      "cmd salary is 10000\n"
     ]
    }
   ],
   "source": [
    "obj = {\n",
    "  name: 'vidu',\n",
    "  salary: 1999,\n",
    "  greet() {\n",
    "    console.log(`${this.name} salary is ${this.salary}`);\n",
    "  },\n",
    "};\n",
    "\n",
    "obj.greet();\n",
    "obj.greet.call(student);\n"
   ]
  },
  {
   "cell_type": "code",
   "execution_count": null,
   "metadata": {},
   "outputs": [
    {
     "name": "stdout",
     "output_type": "stream",
     "text": [
      "{ name: \"vidu\" }\n",
      "Hello vidu, u r from hbh, ur age is 30\n",
      "{ name: \"vidu\" }\n",
      "Hello vidu, u r from hbh, ur age is 30\n",
      "{ name: \"vidu\" }\n",
      "Hello vidu, u r from hbh, ur age is 30\n"
     ]
    }
   ],
   "source": [
    "// call and apply\n",
    "\n",
    "function greet(place, age, study) {\n",
    "  console.log(this);\n",
    "  console.log(`Hello ${this.name}, u r from ${place}, ur age is ${age}`);\n",
    "}\n",
    "\n",
    "let obj = {\n",
    "  name: 'vidu',\n",
    "};\n",
    "\n",
    "greet.call(obj, 'hbh', 30, 'bs');\n",
    "greet.apply(obj, ['hbh', 30, 'bs']);\n",
    "\n",
    "let boundGreet = greet.bind(obj);\n",
    "boundGreet('hbh', 30, 'bs');\n",
    "\n"
   ]
  },
  {
   "cell_type": "code",
   "execution_count": 1,
   "metadata": {},
   "outputs": [
    {
     "name": "stdout",
     "output_type": "stream",
     "text": [
      "0\n",
      "1\n",
      "2\n",
      "3\n",
      "4\n"
     ]
    }
   ],
   "source": [
    "for (const i in [1, 2, 3, 4, 5]) {\n",
    "  console.log(i);\n",
    "}\n"
   ]
  },
  {
   "cell_type": "code",
   "execution_count": 16,
   "metadata": {},
   "outputs": [
    {
     "name": "stdout",
     "output_type": "stream",
     "text": [
      "[\n",
      "  \"0\", \"1\", \"2\",\n",
      "  \"3\", \"4\", \"5\",\n",
      "  \"6\", \"7\"\n",
      "]\n",
      "[\n",
      "  2, 3, 4, 5,\n",
      "  7, 8, 3, 5\n",
      "]\n",
      "[\n",
      "  \"0\", \"1\", \"2\",\n",
      "  \"3\", \"4\", \"5\",\n",
      "  \"6\", \"7\"\n",
      "]\n",
      "[ \"100\", \"vidu\", \"true\" ]\n",
      "[ \"myFavNum\", \"isMyName\", \"isMyAnswer\" ]\n"
     ]
    }
   ],
   "source": [
    "let arr = [2, 3, 4, 5, 7, 8, 3, 5];\n",
    "console.log(Object.keys(arr));\n",
    "console.log(Object.values(arr));\n",
    "\n",
    "let a = [];\n",
    "for (let num in arr) {\n",
    "  a.push(num);\n",
    "}\n",
    "console.log(a);\n",
    "\n",
    "let anObj = {\n",
    "  100: 'myFavNum',\n",
    "  vidu: 'isMyName',\n",
    "  true: 'isMyAnswer',\n",
    "};\n",
    "\n",
    "console.log(Object.keys(anObj));\n",
    "console.log(Object.values(anObj));\n"
   ]
  },
  {
   "cell_type": "code",
   "execution_count": 18,
   "metadata": {},
   "outputs": [
    {
     "name": "stdout",
     "output_type": "stream",
     "text": [
      "[ [ \"0\", 1 ], [ \"1\", 2 ], [ \"2\", 3 ] ]\n"
     ]
    }
   ],
   "source": [
    "let a = [1, 2, 3];\n",
    "\n",
    "console.log(Object.entries(a));\n"
   ]
  },
  {
   "cell_type": "code",
   "execution_count": 25,
   "metadata": {},
   "outputs": [
    {
     "name": "stdout",
     "output_type": "stream",
     "text": [
      "[ 0, 1, 1, 1, 0, 1 ]\n"
     ]
    }
   ],
   "source": [
    "function func(x) {\n",
    "  return x % 2;\n",
    "}\n",
    "\n",
    "let a = [2, 3, 29, 37, 40, 39];\n",
    "console.log(a.map(func));\n"
   ]
  },
  {
   "cell_type": "code",
   "execution_count": 1,
   "metadata": {},
   "outputs": [],
   "source": [
    "// a = [1, 2, 3];\n",
    "// b, (c = a);\n",
    "// console.log(c);\n"
   ]
  },
  {
   "cell_type": "code",
   "execution_count": 3,
   "metadata": {},
   "outputs": [],
   "source": [
    "// a = [1,2,3]\n",
    "// [b, ...c] = a\n",
    "// console.log(c);\n"
   ]
  },
  {
   "cell_type": "code",
   "execution_count": 7,
   "metadata": {},
   "outputs": [
    {
     "name": "stdout",
     "output_type": "stream",
     "text": [
      "2\n"
     ]
    }
   ],
   "source": [
    "let x = new Array(5);\n",
    "x[0] = 1;\n",
    "x[1] = 3;\n",
    "let y = [];\n",
    "for (let i in x) {\n",
    "  y.push(i);\n",
    "}\n",
    "console.log(y.length);\n"
   ]
  },
  {
   "cell_type": "code",
   "execution_count": null,
   "metadata": {},
   "outputs": [],
   "source": [
    "let a = { a: 1, b: 2 , c: function() {return \"Hello\"}};\n"
   ]
  },
  {
   "cell_type": "code",
   "execution_count": 19,
   "metadata": {},
   "outputs": [
    {
     "name": "stdout",
     "output_type": "stream",
     "text": [
      "banana\n",
      "orange\n",
      "apple\n",
      "grape\n",
      "[ \"rahul\", \"rahul\", \"rahul\", \"rahul\" ]\n"
     ]
    }
   ],
   "source": [
    "const juices = [\n",
    "  { id: 1, name: 'grape', rating: 8.1 },\n",
    "  { id: 2, name: 'apple', rating: 5.0 },\n",
    "  { id: 3, name: 'orange', rating: 6.9 },\n",
    "  { id: 4, name: 'banana', rating: 10 },\n",
    "];\n",
    "\n",
    "const mapping = {\n",
    "  '4': 1,\n",
    "  '3': 2,\n",
    "  '2': 3,\n",
    "  '1': 4,\n",
    "};\n",
    "\n",
    "let newJuices = juices\n",
    "  .map(juice => {\n",
    "    return { ...juice, rank: mapping[juice.id] };\n",
    "  })\n",
    "  .sort((a, b) => {\n",
    "    return a.rank - b.rank;\n",
    "  })\n",
    "  .map(juice => {\n",
    "    console.log(juice.name);\n",
    "    return 'rahul';\n",
    "  });\n",
    "console.log(newJuices);\n"
   ]
  },
  {
   "cell_type": "code",
   "execution_count": 17,
   "metadata": {},
   "outputs": [
    {
     "data": {
      "text/plain": [
       "[\n",
       "   \u001b[33m2\u001b[39m,  \u001b[33m3\u001b[39m,  \u001b[33m6\u001b[39m,  \u001b[33m8\u001b[39m,\n",
       "  \u001b[33m17\u001b[39m, \u001b[33m21\u001b[39m, \u001b[33m31\u001b[39m, \u001b[33m52\u001b[39m\n",
       "]"
      ]
     },
     "execution_count": 17,
     "metadata": {},
     "output_type": "execute_result"
    }
   ],
   "source": [
    "let arr = [31, 21, 52, 2, 17, 3, 6, 8];\n",
    "arr.sort((a, b) => {\n",
    "  return a - b;\n",
    "});\n"
   ]
  },
  {
   "cell_type": "code",
   "execution_count": 8,
   "metadata": {},
   "outputs": [
    {
     "name": "stdout",
     "output_type": "stream",
     "text": [
      "jeremy says hello!\n"
     ]
    },
    {
     "data": {
      "text/plain": [
       "\u001b[32m\"Taylor greets!\"\u001b[39m"
      ]
     },
     "execution_count": 8,
     "metadata": {},
     "output_type": "execute_result"
    }
   ],
   "source": [
    "var name = 'Taylor';\n",
    "\n",
    "const person = {\n",
    "  name: 'jeremy',\n",
    "  talk() {\n",
    "    return () => `${this.name} says hello!`;\n",
    "  },\n",
    "  greet: () => {\n",
    "    return `${this.name} greets!`;\n",
    "  },\n",
    "};\n",
    "\n",
    "let talkReturn = person.talk();\n",
    "console.log(talkReturn());\n",
    "\n",
    "person.greet();\n"
   ]
  },
  {
   "cell_type": "code",
   "execution_count": 21,
   "metadata": {},
   "outputs": [
    {
     "name": "stdout",
     "output_type": "stream",
     "text": [
      "4\n",
      "4\n"
     ]
    }
   ],
   "source": [
    "let paruCount = 0;\n",
    "let vishnuCount = 0;\n",
    "\n",
    "function paruIncrement() {\n",
    "  paruCount++;\n",
    "}\n",
    "\n",
    "function vishnuIncrement() {\n",
    "  vishnuCount++;\n",
    "}\n",
    "\n",
    "paruIncrement();\n",
    "paruIncrement();\n",
    "paruIncrement();\n",
    "paruIncrement();\n",
    "vishnuIncrement();\n",
    "vishnuIncrement();\n",
    "vishnuIncrement();\n",
    "vishnuIncrement();\n",
    "console.log(paruCount);\n",
    "console.log(vishnuCount);\n"
   ]
  },
  {
   "cell_type": "code",
   "execution_count": 48,
   "metadata": {},
   "outputs": [
    {
     "name": "stdout",
     "output_type": "stream",
     "text": [
      "just created a fresh count(0) for paru\n",
      "paru's count is 1\n",
      "just created a fresh count(0) for vidu\n",
      "vidu's count is 2\n"
     ]
    }
   ],
   "source": [
    "function createCounter(myName) {\n",
    "  let count = 0;\n",
    "  console.log(`just created a fresh count(${count}) for ${myName}`);\n",
    "\n",
    "  return {\n",
    "    increment() {\n",
    "      count++;\n",
    "    },\n",
    "    decrement() {\n",
    "      count--;\n",
    "    },\n",
    "\n",
    "    show() {\n",
    "      console.log(`${myName}'s count is ${count}`);\n",
    "    },\n",
    "  };\n",
    "}\n",
    "\n",
    "let paruCounter = createCounter('paru');\n",
    "paruCounter.increment();\n",
    "paruCounter.increment();\n",
    "paruCounter.decrement();\n",
    "paruCounter.show();\n",
    "\n",
    "let viduCounter = createCounter('vidu');\n",
    "viduCounter.increment();\n",
    "viduCounter.increment();\n",
    "viduCounter.increment();\n",
    "viduCounter.decrement();\n",
    "viduCounter.show();\n"
   ]
  },
  {
   "cell_type": "code",
   "execution_count": 7,
   "metadata": {},
   "outputs": [
    {
     "name": "stdout",
     "output_type": "stream",
     "text": [
      " 00  01  10  11  20  21 \n"
     ]
    }
   ],
   "source": [
    "let result = '';\n",
    "for (let i = 0; i < 3; i++) {\n",
    "  for (let j = 0; j < 2; j++) {\n",
    "    result += ' ' + i + j + ' ';\n",
    "  }\n",
    "}\n",
    "\n",
    "console.log(result);\n"
   ]
  },
  {
   "cell_type": "code",
   "execution_count": 1,
   "metadata": {},
   "outputs": [
    {
     "ename": "TypeError",
     "evalue": "Cannot read properties of undefined (reading 'a')",
     "output_type": "error",
     "traceback": [
      "Stack trace:",
      "TypeError: Cannot read properties of undefined (reading 'a')",
      "    at b (<anonymous>:5:22)",
      "    at <anonymous>:15:8"
     ]
    }
   ],
   "source": [
    "const a = 15;\n",
    "\n",
    "const obj1 = {\n",
    "  a: 20,\n",
    "  b: function () {\n",
    "    console.log(this.a);\n",
    "    this.b();\n",
    "  },\n",
    "};\n",
    "\n",
    "const obj2 = {\n",
    "  a: 10,\n",
    "  b: () => {\n",
    "    console.log(this.a);\n",
    "  },\n",
    "};\n",
    "\n",
    "obj1.b.apply(this.a);\n"
   ]
  },
  {
   "cell_type": "code",
   "execution_count": 4,
   "metadata": {},
   "outputs": [
    {
     "name": "stdout",
     "output_type": "stream",
     "text": [
      "Australia is on of the major geographical region\n",
      "europe is developed  nation in the region europe\n"
     ]
    }
   ],
   "source": [
    "class Region {\n",
    "  constructor(region) {\n",
    "    this.region = region;\n",
    "  }\n",
    "  get describe() {\n",
    "    return `${this.region} is on of the major geographical region`;\n",
    "  }\n",
    "}\n",
    "\n",
    "class Country extends Region {\n",
    "  constructor(region, country, nation) {\n",
    "    super(region);\n",
    "    this.country = country;\n",
    "    this.nation = nation;\n",
    "  }\n",
    "\n",
    "  get describe() {\n",
    "    return `${this.country} is ${this.nation} nation in the region ${this.region}`;\n",
    "  }\n",
    "}\n",
    "\n",
    "let australia = new Region('Australia', 'Australia', 'developed ');\n",
    "console.log(australia.describe);\n",
    "\n",
    "let europe = new Country('europe', 'europe', 'developed ');\n",
    "console.log(europe.describe);\n"
   ]
  }
 ],
 "metadata": {
  "kernelspec": {
   "display_name": "Deno",
   "language": "typescript",
   "name": "deno"
  },
  "language_info": {
   "codemirror_mode": "typescript",
   "file_extension": ".ts",
   "mimetype": "text/x.typescript",
   "name": "typescript",
   "nbconvert_exporter": "script",
   "pygments_lexer": "typescript",
   "version": "5.6.2"
  }
 },
 "nbformat": 4,
 "nbformat_minor": 2
}
